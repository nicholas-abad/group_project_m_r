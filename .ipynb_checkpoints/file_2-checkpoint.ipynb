{
 "cells": [
  {
   "cell_type": "code",
   "execution_count": 2,
   "metadata": {},
   "outputs": [],
   "source": [
    "import pandas as pd\n",
    "import numpy as np\n"
   ]
  },
  {
   "cell_type": "code",
   "execution_count": 3,
   "metadata": {},
   "outputs": [],
   "source": [
    "children_registered = pd.read_csv(\"/Users/vardr.DESKTOP-R06GCLK/CodeOp_Data_Analytics_Mod3on/Group_Project/UK_ed_under_5/data/2_early_years_provision_provider_type_2018_2024.csv\")\n",
    "disadvanted_data = pd.read_csv(\"/Users/vardr.DESKTOP-R06GCLK/CodeOp_Data_Analytics_Mod3on/Group_Project/UK_ed_under_5/data/3_early_years_provision_disadvantaged_children_2018_2024.csv\")"
   ]
  },
  {
   "cell_type": "code",
   "execution_count": 4,
   "metadata": {},
   "outputs": [],
   "source": [
    "def display_unique_vals(df):\n",
    "    for column in df.columns:\n",
    "        unique_values = df[column].unique()\n",
    "        print(f' Column: {column}')\n",
    "        print(f'Number of unique values: {len(unique_values)}')\n",
    "        print(f'Unique values: {unique_values}')\n",
    "        print('-' * 40)\n"
   ]
  },
  {
   "cell_type": "code",
   "execution_count": 5,
   "metadata": {},
   "outputs": [
    {
     "name": "stdout",
     "output_type": "stream",
     "text": [
      " Column: time_period\n",
      "Number of unique values: 7\n",
      "Unique values: [2024 2023 2022 2021 2020 2019 2018]\n",
      "----------------------------------------\n",
      " Column: time_identifier\n",
      "Number of unique values: 1\n",
      "Unique values: ['Reporting year']\n",
      "----------------------------------------\n",
      " Column: geographic_level\n",
      "Number of unique values: 3\n",
      "Unique values: ['National' 'Regional' 'Local authority']\n",
      "----------------------------------------\n",
      " Column: country_code\n",
      "Number of unique values: 1\n",
      "Unique values: ['E92000001']\n",
      "----------------------------------------\n",
      " Column: country_name\n",
      "Number of unique values: 1\n",
      "Unique values: ['England']\n",
      "----------------------------------------\n",
      " Column: region_code\n",
      "Number of unique values: 12\n",
      "Unique values: [nan 'E12000001' 'E12000002' 'E12000003' 'E12000004' 'E12000005'\n",
      " 'E12000006' 'E12000007' 'E12000008' 'E12000009' 'E13000001' 'E13000002']\n",
      "----------------------------------------\n",
      " Column: region_name\n",
      "Number of unique values: 12\n",
      "Unique values: [nan 'North East' 'North West' 'Yorkshire and The Humber' 'East Midlands'\n",
      " 'West Midlands' 'East of England' 'London' 'South East' 'South West'\n",
      " 'Inner London' 'Outer London']\n",
      "----------------------------------------\n",
      " Column: old_la_code\n",
      "Number of unique values: 159\n",
      "Unique values: [ nan 840. 841. 390. 805. 806. 391. 392. 929. 807. 393. 808. 394. 889.\n",
      " 890. 350. 351. 895. 896. 942. 876. 340. 888. 341. 352. 353. 354. 355.\n",
      " 343. 342. 356. 357. 358. 877. 943. 359. 344. 370. 380. 381. 371. 811.\n",
      " 810. 382. 383. 812. 813. 815. 372. 373. 384. 816. 831. 830. 856. 855.\n",
      " 925. 940. 892. 891. 857. 941. 330. 331. 332. 884. 333. 893. 334. 860.\n",
      " 861. 894. 335. 937. 336. 885. 822. 873. 823. 881. 919. 821. 926. 874.\n",
      " 882. 935. 883. 867. 846. 825. 845. 850. 921. 886. 887. 826. 931. 851.\n",
      " 870. 871. 852. 936. 869. 938. 868. 872. 800. 839. 801. 908. 878. 838.\n",
      " 916. 420. 802. 879. 933. 803. 866. 880. 865. 202. 201. 204. 205. 309.\n",
      " 206. 207. 208. 209. 316. 210. 211. 212. 213. 301. 302. 303. 304. 305.\n",
      " 306. 307. 308. 203. 310. 311. 312. 313. 314. 315. 317. 318. 319. 320.\n",
      " 909. 928. 837. 835. 836.]\n",
      "----------------------------------------\n",
      " Column: new_la_code\n",
      "Number of unique values: 160\n",
      "Unique values: [nan 'E06000047' 'E06000005' 'E08000037' 'E06000001' 'E06000002'\n",
      " 'E08000021' 'E08000022' 'E06000057' 'E06000003' 'E08000023' 'E06000004'\n",
      " 'E08000024' 'E06000008' 'E06000009' 'E08000001' 'E08000002' 'E06000049'\n",
      " 'E06000050' 'E06000063' 'E06000006' 'E08000011' 'E10000017' 'E08000012'\n",
      " 'E08000003' 'E08000004' 'E08000005' 'E08000006' 'E08000014' 'E08000013'\n",
      " 'E08000007' 'E08000008' 'E08000009' 'E06000007' 'E06000064' 'E08000010'\n",
      " 'E08000015' 'E08000016' 'E08000032' 'E08000033' 'E08000017' 'E06000011'\n",
      " 'E06000010' 'E08000034' 'E08000035' 'E06000012' 'E06000013' 'E10000023'\n",
      " 'E08000018' 'E08000019' 'E08000036' 'E06000014' 'E06000015' 'E10000007'\n",
      " 'E06000016' 'E10000018' 'E10000019' 'E06000061' 'E06000018' 'E10000024'\n",
      " 'E06000017' 'E06000062' 'E08000025' 'E08000026' 'E08000027' 'E06000019'\n",
      " 'E08000028' 'E06000051' 'E08000029' 'E10000028' 'E06000021' 'E06000020'\n",
      " 'E08000030' 'E10000031' 'E08000031' 'E10000034' 'E06000055' 'E10000003'\n",
      " 'E06000056' 'E10000012' 'E10000015' 'E06000032' 'E10000020' 'E06000031'\n",
      " 'E06000033' 'E10000029' 'E06000034' 'E06000036' 'E06000043' 'E06000060'\n",
      " 'E10000011' 'E10000014' 'E06000046' 'E10000016' 'E06000035' 'E06000042'\n",
      " 'E10000025' 'E06000044' 'E06000038' 'E06000039' 'E06000045' 'E10000030'\n",
      " 'E06000037' 'E10000032' 'E06000040' 'E06000041' 'E06000022' 'E06000058'\n",
      " 'E06000023' 'E06000052' 'E10000008' 'E06000059' 'E10000013' 'E06000053'\n",
      " 'E06000024' 'E06000026' 'E10000027' 'E06000025' 'E06000030' 'E06000027'\n",
      " 'E06000054' 'E09000007' 'E09000001' 'E09000012' 'E09000013' 'E09000014'\n",
      " 'E09000019' 'E09000020' 'E09000022' 'E09000023' 'E09000025' 'E09000028'\n",
      " 'E09000030' 'E09000032' 'E09000033' 'E09000002' 'E09000003' 'E09000004'\n",
      " 'E09000005' 'E09000006' 'E09000008' 'E09000009' 'E09000010' 'E09000011'\n",
      " 'E09000015' 'E09000016' 'E09000017' 'E09000018' 'E09000021' 'E09000024'\n",
      " 'E09000026' 'E09000027' 'E09000029' 'E09000031' 'E10000006' 'E10000021'\n",
      " 'E10000002' 'E06000028' 'E10000009' 'E06000029']\n",
      "----------------------------------------\n",
      " Column: la_name\n",
      "Number of unique values: 158\n",
      "Unique values: [nan 'County Durham' 'Darlington' 'Gateshead' 'Hartlepool' 'Middlesbrough'\n",
      " 'Newcastle upon Tyne' 'North Tyneside' 'Northumberland'\n",
      " 'Redcar and Cleveland' 'South Tyneside' 'Stockton-on-Tees' 'Sunderland'\n",
      " 'Blackburn with Darwen' 'Blackpool' 'Bolton' 'Bury' 'Cheshire East'\n",
      " 'Cheshire West and Chester' 'Cumberland' 'Halton' 'Knowsley' 'Lancashire'\n",
      " 'Liverpool' 'Manchester' 'Oldham' 'Rochdale' 'Salford' 'Sefton'\n",
      " 'St. Helens' 'Stockport' 'Tameside' 'Trafford' 'Warrington'\n",
      " 'Westmorland and Furness' 'Wigan' 'Wirral' 'Barnsley' 'Bradford'\n",
      " 'Calderdale' 'Doncaster' 'East Riding of Yorkshire'\n",
      " 'Kingston upon Hull, City of' 'Kirklees' 'Leeds'\n",
      " 'North East Lincolnshire' 'North Lincolnshire' 'North Yorkshire'\n",
      " 'Rotherham' 'Sheffield' 'Wakefield' 'York' 'Derby' 'Derbyshire'\n",
      " 'Leicester' 'Leicestershire' 'Lincolnshire' 'North Northamptonshire'\n",
      " 'Nottingham' 'Nottinghamshire' 'Rutland' 'West Northamptonshire'\n",
      " 'Birmingham' 'Coventry' 'Dudley' 'Herefordshire, County of' 'Sandwell'\n",
      " 'Shropshire' 'Solihull' 'Staffordshire' 'Stoke-on-Trent'\n",
      " 'Telford and Wrekin' 'Walsall' 'Warwickshire' 'Wolverhampton'\n",
      " 'Worcestershire' 'Bedford' 'Cambridgeshire' 'Central Bedfordshire'\n",
      " 'Essex' 'Hertfordshire' 'Luton' 'Norfolk' 'Peterborough'\n",
      " 'Southend-on-Sea' 'Suffolk' 'Thurrock' 'Bracknell Forest'\n",
      " 'Brighton and Hove' 'Buckinghamshire' 'East Sussex' 'Hampshire'\n",
      " 'Isle of Wight' 'Kent' 'Medway' 'Milton Keynes' 'Oxfordshire'\n",
      " 'Portsmouth' 'Reading' 'Slough' 'Southampton' 'Surrey' 'West Berkshire'\n",
      " 'West Sussex' 'Windsor and Maidenhead' 'Wokingham'\n",
      " 'Bath and North East Somerset' 'Bournemouth, Christchurch and Poole'\n",
      " 'Bristol, City of' 'Cornwall' 'Devon' 'Dorset' 'Gloucestershire'\n",
      " 'Isles of Scilly' 'North Somerset' 'Plymouth' 'Somerset'\n",
      " 'South Gloucestershire' 'Swindon' 'Torbay' 'Wiltshire' 'Camden'\n",
      " 'City of London' 'Hackney' 'Hammersmith and Fulham' 'Haringey'\n",
      " 'Islington' 'Kensington and Chelsea' 'Lambeth' 'Lewisham' 'Newham'\n",
      " 'Southwark' 'Tower Hamlets' 'Wandsworth' 'Westminster'\n",
      " 'Barking and Dagenham' 'Barnet' 'Bexley' 'Brent' 'Bromley' 'Croydon'\n",
      " 'Ealing' 'Enfield' 'Greenwich' 'Harrow' 'Havering' 'Hillingdon'\n",
      " 'Hounslow' 'Kingston upon Thames' 'Merton' 'Redbridge'\n",
      " 'Richmond upon Thames' 'Sutton' 'Waltham Forest' 'Cumbria'\n",
      " 'Northamptonshire' 'Bournemouth' 'Poole']\n",
      "----------------------------------------\n",
      " Column: entitlement_type\n",
      "Number of unique values: 2\n",
      "Unique values: ['15-hour entitlement' '30-hour entitlement']\n",
      "----------------------------------------\n",
      " Column: provider_type_group\n",
      "Number of unique values: 3\n",
      "Unique values: ['Total' 'Private, voluntary and independent providers'\n",
      " 'State-funded schools']\n",
      "----------------------------------------\n",
      " Column: provider_type\n",
      "Number of unique values: 8\n",
      "Unique values: ['Total' 'All private and voluntary providers' 'Independent schools'\n",
      " 'Childminders' 'State-funded nursery schools'\n",
      " 'State-funded primary schools' 'State-funded secondary schools'\n",
      " 'Special schools']\n",
      "----------------------------------------\n",
      " Column: year_group\n",
      "Number of unique values: 3\n",
      "Unique values: ['Total' 'Nursery' 'Reception']\n",
      "----------------------------------------\n",
      " Column: age\n",
      "Number of unique values: 5\n",
      "Unique values: ['Total' '2-year-olds' '3-year-olds' '4-year-olds' '3 and 4-year-olds']\n",
      "----------------------------------------\n",
      " Column: number_children\n",
      "Number of unique values: 12922\n",
      "Unique values: ['1285393' '115852' '559825' ... '7154' '4730' '2456']\n",
      "----------------------------------------\n",
      " Column: number_providers\n",
      "Number of unique values: 3316\n",
      "Unique values: ['47359' '20553' '36559' ... '1421' '852' '825']\n",
      "----------------------------------------\n"
     ]
    }
   ],
   "source": [
    "display_unique_vals(children_registered)"
   ]
  },
  {
   "cell_type": "code",
   "execution_count": 6,
   "metadata": {},
   "outputs": [],
   "source": [
    "invalid_values = ['c', 'u', 'x', 'z']\n"
   ]
  },
  {
   "cell_type": "markdown",
   "metadata": {},
   "source": [
    "Disadvantaged children data cleaning"
   ]
  },
  {
   "cell_type": "code",
   "execution_count": 7,
   "metadata": {},
   "outputs": [
    {
     "name": "stdout",
     "output_type": "stream",
     "text": [
      "<class 'pandas.core.frame.DataFrame'>\n",
      "RangeIndex: 82584 entries, 0 to 82583\n",
      "Data columns (total 17 columns):\n",
      " #   Column               Non-Null Count  Dtype  \n",
      "---  ------               --------------  -----  \n",
      " 0   time_period          82584 non-null  int64  \n",
      " 1   time_identifier      82584 non-null  object \n",
      " 2   geographic_level     82584 non-null  object \n",
      " 3   country_code         82584 non-null  object \n",
      " 4   country_name         82584 non-null  object \n",
      " 5   region_code          82080 non-null  object \n",
      " 6   region_name          82080 non-null  object \n",
      " 7   old_la_code          76536 non-null  float64\n",
      " 8   new_la_code          76536 non-null  object \n",
      " 9   la_name              76536 non-null  object \n",
      " 10  entitlement_type     82584 non-null  object \n",
      " 11  age                  82584 non-null  object \n",
      " 12  year_group           82584 non-null  object \n",
      " 13  disadvantage_type    82584 non-null  object \n",
      " 14  basis_for_funding    82584 non-null  object \n",
      " 15  number_children      82584 non-null  object \n",
      " 16  percentage_children  82584 non-null  object \n",
      "dtypes: float64(1), int64(1), object(15)\n",
      "memory usage: 10.7+ MB\n"
     ]
    }
   ],
   "source": [
    "disadvanted_data.info()"
   ]
  },
  {
   "cell_type": "code",
   "execution_count": 8,
   "metadata": {},
   "outputs": [
    {
     "name": "stdout",
     "output_type": "stream",
     "text": [
      " Column: time_period\n",
      "Number of unique values: 7\n",
      "Unique values: [2024 2023 2022 2021 2020 2019 2018]\n",
      "----------------------------------------\n",
      " Column: time_identifier\n",
      "Number of unique values: 1\n",
      "Unique values: ['Reporting year']\n",
      "----------------------------------------\n",
      " Column: geographic_level\n",
      "Number of unique values: 3\n",
      "Unique values: ['National' 'Regional' 'Local authority']\n",
      "----------------------------------------\n",
      " Column: country_code\n",
      "Number of unique values: 1\n",
      "Unique values: ['E92000001']\n",
      "----------------------------------------\n",
      " Column: country_name\n",
      "Number of unique values: 1\n",
      "Unique values: ['England']\n",
      "----------------------------------------\n",
      " Column: region_code\n",
      "Number of unique values: 12\n",
      "Unique values: [nan 'E12000001' 'E12000002' 'E12000003' 'E12000004' 'E12000005'\n",
      " 'E12000006' 'E12000007' 'E12000008' 'E12000009' 'E13000001' 'E13000002']\n",
      "----------------------------------------\n",
      " Column: region_name\n",
      "Number of unique values: 12\n",
      "Unique values: [nan 'North East' 'North West' 'Yorkshire and The Humber' 'East Midlands'\n",
      " 'West Midlands' 'East of England' 'London' 'South East' 'South West'\n",
      " 'Inner London' 'Outer London']\n",
      "----------------------------------------\n",
      " Column: old_la_code\n",
      "Number of unique values: 159\n",
      "Unique values: [ nan 840. 841. 390. 805. 806. 391. 392. 929. 807. 393. 808. 394. 889.\n",
      " 890. 350. 351. 895. 896. 942. 876. 340. 888. 341. 352. 353. 354. 355.\n",
      " 343. 342. 356. 357. 358. 877. 943. 359. 344. 370. 380. 381. 371. 811.\n",
      " 810. 382. 383. 812. 813. 815. 372. 373. 384. 816. 831. 830. 856. 855.\n",
      " 925. 940. 892. 891. 857. 941. 330. 331. 332. 884. 333. 893. 334. 860.\n",
      " 861. 894. 335. 937. 336. 885. 822. 873. 823. 881. 919. 821. 926. 874.\n",
      " 882. 935. 883. 867. 846. 825. 845. 850. 921. 886. 887. 826. 931. 851.\n",
      " 870. 871. 852. 936. 869. 938. 868. 872. 800. 839. 801. 908. 878. 838.\n",
      " 916. 420. 802. 879. 933. 803. 866. 880. 865. 202. 201. 204. 205. 309.\n",
      " 206. 207. 208. 209. 316. 210. 211. 212. 213. 301. 302. 303. 304. 305.\n",
      " 306. 307. 308. 203. 310. 311. 312. 313. 314. 315. 317. 318. 319. 320.\n",
      " 909. 928. 837. 835. 836.]\n",
      "----------------------------------------\n",
      " Column: new_la_code\n",
      "Number of unique values: 160\n",
      "Unique values: [nan 'E06000047' 'E06000005' 'E08000037' 'E06000001' 'E06000002'\n",
      " 'E08000021' 'E08000022' 'E06000057' 'E06000003' 'E08000023' 'E06000004'\n",
      " 'E08000024' 'E06000008' 'E06000009' 'E08000001' 'E08000002' 'E06000049'\n",
      " 'E06000050' 'E06000063' 'E06000006' 'E08000011' 'E10000017' 'E08000012'\n",
      " 'E08000003' 'E08000004' 'E08000005' 'E08000006' 'E08000014' 'E08000013'\n",
      " 'E08000007' 'E08000008' 'E08000009' 'E06000007' 'E06000064' 'E08000010'\n",
      " 'E08000015' 'E08000016' 'E08000032' 'E08000033' 'E08000017' 'E06000011'\n",
      " 'E06000010' 'E08000034' 'E08000035' 'E06000012' 'E06000013' 'E10000023'\n",
      " 'E08000018' 'E08000019' 'E08000036' 'E06000014' 'E06000015' 'E10000007'\n",
      " 'E06000016' 'E10000018' 'E10000019' 'E06000061' 'E06000018' 'E10000024'\n",
      " 'E06000017' 'E06000062' 'E08000025' 'E08000026' 'E08000027' 'E06000019'\n",
      " 'E08000028' 'E06000051' 'E08000029' 'E10000028' 'E06000021' 'E06000020'\n",
      " 'E08000030' 'E10000031' 'E08000031' 'E10000034' 'E06000055' 'E10000003'\n",
      " 'E06000056' 'E10000012' 'E10000015' 'E06000032' 'E10000020' 'E06000031'\n",
      " 'E06000033' 'E10000029' 'E06000034' 'E06000036' 'E06000043' 'E06000060'\n",
      " 'E10000011' 'E10000014' 'E06000046' 'E10000016' 'E06000035' 'E06000042'\n",
      " 'E10000025' 'E06000044' 'E06000038' 'E06000039' 'E06000045' 'E10000030'\n",
      " 'E06000037' 'E10000032' 'E06000040' 'E06000041' 'E06000022' 'E06000058'\n",
      " 'E06000023' 'E06000052' 'E10000008' 'E06000059' 'E10000013' 'E06000053'\n",
      " 'E06000024' 'E06000026' 'E10000027' 'E06000025' 'E06000030' 'E06000027'\n",
      " 'E06000054' 'E09000007' 'E09000001' 'E09000012' 'E09000013' 'E09000014'\n",
      " 'E09000019' 'E09000020' 'E09000022' 'E09000023' 'E09000025' 'E09000028'\n",
      " 'E09000030' 'E09000032' 'E09000033' 'E09000002' 'E09000003' 'E09000004'\n",
      " 'E09000005' 'E09000006' 'E09000008' 'E09000009' 'E09000010' 'E09000011'\n",
      " 'E09000015' 'E09000016' 'E09000017' 'E09000018' 'E09000021' 'E09000024'\n",
      " 'E09000026' 'E09000027' 'E09000029' 'E09000031' 'E10000006' 'E10000021'\n",
      " 'E10000002' 'E06000028' 'E10000009' 'E06000029']\n",
      "----------------------------------------\n",
      " Column: la_name\n",
      "Number of unique values: 158\n",
      "Unique values: [nan 'County Durham' 'Darlington' 'Gateshead' 'Hartlepool' 'Middlesbrough'\n",
      " 'Newcastle upon Tyne' 'North Tyneside' 'Northumberland'\n",
      " 'Redcar and Cleveland' 'South Tyneside' 'Stockton-on-Tees' 'Sunderland'\n",
      " 'Blackburn with Darwen' 'Blackpool' 'Bolton' 'Bury' 'Cheshire East'\n",
      " 'Cheshire West and Chester' 'Cumberland' 'Halton' 'Knowsley' 'Lancashire'\n",
      " 'Liverpool' 'Manchester' 'Oldham' 'Rochdale' 'Salford' 'Sefton'\n",
      " 'St. Helens' 'Stockport' 'Tameside' 'Trafford' 'Warrington'\n",
      " 'Westmorland and Furness' 'Wigan' 'Wirral' 'Barnsley' 'Bradford'\n",
      " 'Calderdale' 'Doncaster' 'East Riding of Yorkshire'\n",
      " 'Kingston upon Hull, City of' 'Kirklees' 'Leeds'\n",
      " 'North East Lincolnshire' 'North Lincolnshire' 'North Yorkshire'\n",
      " 'Rotherham' 'Sheffield' 'Wakefield' 'York' 'Derby' 'Derbyshire'\n",
      " 'Leicester' 'Leicestershire' 'Lincolnshire' 'North Northamptonshire'\n",
      " 'Nottingham' 'Nottinghamshire' 'Rutland' 'West Northamptonshire'\n",
      " 'Birmingham' 'Coventry' 'Dudley' 'Herefordshire, County of' 'Sandwell'\n",
      " 'Shropshire' 'Solihull' 'Staffordshire' 'Stoke-on-Trent'\n",
      " 'Telford and Wrekin' 'Walsall' 'Warwickshire' 'Wolverhampton'\n",
      " 'Worcestershire' 'Bedford' 'Cambridgeshire' 'Central Bedfordshire'\n",
      " 'Essex' 'Hertfordshire' 'Luton' 'Norfolk' 'Peterborough'\n",
      " 'Southend-on-Sea' 'Suffolk' 'Thurrock' 'Bracknell Forest'\n",
      " 'Brighton and Hove' 'Buckinghamshire' 'East Sussex' 'Hampshire'\n",
      " 'Isle of Wight' 'Kent' 'Medway' 'Milton Keynes' 'Oxfordshire'\n",
      " 'Portsmouth' 'Reading' 'Slough' 'Southampton' 'Surrey' 'West Berkshire'\n",
      " 'West Sussex' 'Windsor and Maidenhead' 'Wokingham'\n",
      " 'Bath and North East Somerset' 'Bournemouth, Christchurch and Poole'\n",
      " 'Bristol, City of' 'Cornwall' 'Devon' 'Dorset' 'Gloucestershire'\n",
      " 'Isles of Scilly' 'North Somerset' 'Plymouth' 'Somerset'\n",
      " 'South Gloucestershire' 'Swindon' 'Torbay' 'Wiltshire' 'Camden'\n",
      " 'City of London' 'Hackney' 'Hammersmith and Fulham' 'Haringey'\n",
      " 'Islington' 'Kensington and Chelsea' 'Lambeth' 'Lewisham' 'Newham'\n",
      " 'Southwark' 'Tower Hamlets' 'Wandsworth' 'Westminster'\n",
      " 'Barking and Dagenham' 'Barnet' 'Bexley' 'Brent' 'Bromley' 'Croydon'\n",
      " 'Ealing' 'Enfield' 'Greenwich' 'Harrow' 'Havering' 'Hillingdon'\n",
      " 'Hounslow' 'Kingston upon Thames' 'Merton' 'Redbridge'\n",
      " 'Richmond upon Thames' 'Sutton' 'Waltham Forest' 'Cumbria'\n",
      " 'Northamptonshire' 'Bournemouth' 'Poole']\n",
      "----------------------------------------\n",
      " Column: entitlement_type\n",
      "Number of unique values: 1\n",
      "Unique values: ['15-hour entitlement']\n",
      "----------------------------------------\n",
      " Column: age\n",
      "Number of unique values: 3\n",
      "Unique values: ['Total' '2-year-olds' '3 and 4-year-olds']\n",
      "----------------------------------------\n",
      " Column: year_group\n",
      "Number of unique values: 3\n",
      "Unique values: ['Total' 'Nursery' 'Reception']\n",
      "----------------------------------------\n",
      " Column: disadvantage_type\n",
      "Number of unique values: 4\n",
      "Unique values: ['Total' 'Early years provision for disadvantaged 2-year-olds'\n",
      " 'Early years pupil premium' 'Free school meals']\n",
      "----------------------------------------\n",
      " Column: basis_for_funding\n",
      "Number of unique values: 6\n",
      "Unique values: ['Total' 'Economic reasons' 'High level SEND'\n",
      " 'Looked after or adopted from care' 'Multiple reasons' 'Unknown reasons']\n",
      "----------------------------------------\n",
      " Column: number_children\n",
      "Number of unique values: 3505\n",
      "Unique values: ['293632' '280742' '1891' ... '1813' '2268' '1553']\n",
      "----------------------------------------\n",
      " Column: percentage_children\n",
      "Number of unique values: 577\n",
      "Unique values: ['100' '95.6' '0.6' '2.8' '0.9' '1.8' '96.6' '1.6' '2.4' 'z' '91.7' '5.1'\n",
      " '5' '94.9' '3.1' '1.1' '95' '0.3' '3.5' '1' '2.2' '96.4' '0.7' '90.5'\n",
      " '5.9' '2.3' '94.1' '3.7' '1.5' '95.4' '0.5' '3.2' '96.8' '1.2' '2.5'\n",
      " '91.1' '6.1' '2.1' '94.5' '1.3' '95.7' '0.4' '97.3' '91.8' '6.3' '1.9'\n",
      " '3.8' '94.6' '4.1' '96.3' '0.8' '2' '1.4' '2.6' '2.7' '3.6' '1.7' '94.8'\n",
      " '88.7' '4.6' '8.5' '93.3' '3.3' '92.4' '95.2' '2.9' '96.7' '98.7' '91.5'\n",
      " '5.4' '3' '6.2' '95.5' '4.7' '4.2' '96.1' '94' '4.5' '98.3' '99.1' '6'\n",
      " '4' '97.8' '3.4' '87.8' '4.9' '9.6' '93.1' '96.5' 'low' '0.1' '0.2'\n",
      " '94.3' '0' '7.3' '4.3' '89' '14.5' '7.1' '92.7' '93.4' '86' '12.3' '91.9'\n",
      " '7.2' '94.2' '97.2' '88.3' '10.6' '92.5' '6.8' '93.6' '99.9' '82.9'\n",
      " '13.1' '89.4' '8.2' '5.3' '7.9' '6.9' '81.8' '18.2' '91.4' '8.6' '4.4'\n",
      " '95.8' '3.9' '83.3' '11.1' '88.8' '7.4' '86.3' '12.1' '9.7' '11.3' '91.2'\n",
      " '7.7' '96.9' '99' '94.7' '96.2' '99.4' '86.9' '11.2' '93' '5.6' '4.8'\n",
      " '79.6' '19.6' '90.1' '9.5' '97.6' '98.6' '93.7' '96' '92.3' '5.8' '88.1'\n",
      " '7.5' '6.5' '92.8' '97' '89.5' '91.6' '83.5' '9.4' '6.4' '5.2' '95.3'\n",
      " '83.1' '11.6' '88.9' '7.6' '93.5' '99.5' '98.8' '99.6' '99.7' '99.2'\n",
      " '5.7' '97.9' '83.7' '14.3' '9.8' '98.2' '97.4' '18.6' '11.9' '85' '11'\n",
      " '92.6' '15.1' '6.7' '90.2' '8.4' '95.1' '93.9' '92.1' '94.4' '99.8'\n",
      " '98.4' '13' '7' '12.4' '89.3' '8.1' '87.6' '12.7' '9.1' '8' '5.5' '90.9'\n",
      " '10.4' '10.3' '98.5' '98.1' '92.9' '86.1' '8.7' '90.6' '9.9' '93.8' '6.6'\n",
      " '86.6' '9' '95.9' '98' '97.5' '85.6' '14' '93.2' '81.6' '17.4' '89.6'\n",
      " '10' '97.7' '89.9' '84.4' '90.8' '91.3' '77.3' '19.8' '87.1' '88.2'\n",
      " '92.2' '90.3' '98.9' '97.1' '10.9' '82' '14.8' '90.4' '85.9' '91' '88.6'\n",
      " '10.7' '80.6' '12.6' '92' '99.3' '21.3' '17.9' '86.2' '10.5' '10.1'\n",
      " '84.3' '15.3' '82.6' '87.7' '83' '8.3' '11.4' '74' '25.2' '21.1' '76.6'\n",
      " '50.5' '48' '86.4' '10.8' '79.9' '16.7' '87.4' '89.7' 'c' '84.5' '85.8'\n",
      " '81.7' '13.9' '88' '7.8' '90.7' '77.7' '18.8' '87.9' '10.2' '82.8' '88.4'\n",
      " '8.9' '85.3' '13.4' '80.7' '82.7' '16.2' 'u' '89.8' '82.4' '16.6' '83.6'\n",
      " '12.9' '88.5' '87.5' '78.6' '19.3' '89.2' '79' '20.7' '31.8' '67.2'\n",
      " '57.3' '42.1' '79.5' '17.5' '83.2' '9.2' '86.7' '11.7' '80' '15' '80.4'\n",
      " '17.7' '13.5' '84.8' '11.5' '87.3' '83.9' '12.8' '86.5' '89.1' '69.8'\n",
      " '27.8' '27.4' '70.4' '52.6' '46' '66.3' '31.3' '22.6' '75.2' '48.4'\n",
      " '50.1' '16' '14.2' '83.8' '85.7' '9.3' '13.3' '81.5' '85.5' '14.1' '84.1'\n",
      " '84' '48.5' '50.2' '71' '28.3' '78.8' '90' '13.2' '77.8' '17' '14.7'\n",
      " '78.2' '15.9' '87' '73' '24.1' '8.8' '84.7' '62.9' '34.9' '80.2' '18.7'\n",
      " '72.5' '23' '85.1' '62.1' '34.1' '19' '73.7' '80.3' '17.1' '84.2' '60.4'\n",
      " '31' '77' '18' '68.2' '26.2' '81.1' '15.6' '15.5' '60.1' '76.5' '69'\n",
      " '25.7' '81' '15.7' '72.9' '20.2' '82.3' '70' '86.8' '74.1' '23.2' '16.8'\n",
      " '52.1' '15.4' '66.1' '29.7' '62.7' '34.3' '15.2' '14.9' '20.5' '75'\n",
      " '17.6' '83.4' '20' '18.3' '75.5' '63.2' '76.1' '57.1' '39.3' '76.8'\n",
      " '80.8' '18.9' '36.4' '62.5' '59.9' '39.4' '71.2' '12.5' '65.5' '24.9'\n",
      " '87.2' '82.5' '72.8' '13.7' '76.2' '62.8' '28.4' '73.2' '22.9' '14.6'\n",
      " '65.9' '30.6' '71.8' '11.8' '18.4' '58.3' '31.5' '72.3' '20.9' '69.7'\n",
      " '80.1' '21' '13.8' '13.6' '17.8' '78' '17.2' '64.4' '28.2' '19.2' '71.6'\n",
      " '24.7' '82.2' '70.9' '12' '71.9' '27.2' '72.7' '23.6' '30.2' '73.6' '22'\n",
      " '43.2' '32.2' '65.6' '77.1' '21.4' '72.6' '25' '73.9' '85.4' '55.9'\n",
      " '38.9' '76.3' '73.3' '65.4' '34.5' '58.9' '39.5' '75.1' '22.5' '25.6'\n",
      " '78.3' '18.1' '25.1' '16.5' '77.4' '80.9' '81.9' '71.4' '69.5' '80.5'\n",
      " '75.9' '67.6' '76' '81.3' '69.9' '23.5' '61.5' '30.9' '73.4' '72.1'\n",
      " '28.6' '19.4' '77.2' '15.8' '67.9' '28.7' '70.7' '68.3' '78.1' '72.2'\n",
      " '27' '79.2' '58.2' '67' '82.1' '64.6' '31.4' '73.8' '12.2' '28' '76.9'\n",
      " '76.4' '54.3' '33.5' '77.5' '75.7' '67.5' '79.1' '39.1' '59.5' '38'\n",
      " '85.2' '84.6' '50' '19.1' '24.5' '22.8' '68.5' '53.6' '44.5' '70.2'\n",
      " '27.1' '26.8' '16.3' '40.5' '58' '61.2' '37.8' '22.2']\n",
      "----------------------------------------\n"
     ]
    }
   ],
   "source": [
    "display_unique_vals(disadvanted_data)"
   ]
  },
  {
   "cell_type": "markdown",
   "metadata": {},
   "source": [
    "## Filtering out 2-year-olds on children_registered df"
   ]
  },
  {
   "cell_type": "code",
   "execution_count": 9,
   "metadata": {},
   "outputs": [],
   "source": [
    "def filter_out_age(df):\n",
    "    \"\"\"\n",
    "    Removes rows where the column 'age' is equal to '2-year-olds' from a dataframe.\n",
    "\n",
    "    Parameters:\n",
    "    df: The DataFrame to modify\n",
    "\n",
    "    Returns:\n",
    "    pandas.DataFrame: The modified DataFrame with rows removed. \n",
    "    \"\"\"\n",
    "    if 'age' in df.columns:\n",
    "        return df[df['age']!= '2-year-olds'].reset_index(drop=True)\n",
    "    \n"
   ]
  },
  {
   "cell_type": "code",
   "execution_count": 45,
   "metadata": {},
   "outputs": [
    {
     "name": "stdout",
     "output_type": "stream",
     "text": [
      "Before filtering, count of '2-year-olds': 0\n",
      "After filtering, count of '2-year-olds': 0\n"
     ]
    }
   ],
   "source": [
    "# Check the count of '2-year-olds' before filtering\n",
    "print(f\"Before filtering, count of '2-year-olds': {(children_registered['age'] == '2-year-olds').sum()}\")\n",
    "\n",
    "# Apply the filter and reassign the DataFrame\n",
    "children_registered = filter_out_age(children_registered)\n",
    "\n",
    "# Check the count of '2-year-olds' after filtering\n",
    "print(f\"After filtering, count of '2-year-olds': {(children_registered['age'] == '2-year-olds').sum()}\")\n"
   ]
  },
  {
   "cell_type": "code",
   "execution_count": 46,
   "metadata": {},
   "outputs": [],
   "source": [
    "def filter_out_age_more(df):\n",
    "    \"\"\"\n",
    "    Removes rows where the column 'age' is equal to '3 and 4-year-olds' from a dataframe.\n",
    "\n",
    "    Parameters:\n",
    "    df: The DataFrame to modify\n",
    "\n",
    "    Returns:\n",
    "    pandas.DataFrame: The modified DataFrame with rows removed. \n",
    "    \"\"\"\n",
    "    if 'age' in df.columns:\n",
    "        return df[df['age']!= '3 and 4-year-olds'].reset_index(drop=True)"
   ]
  },
  {
   "cell_type": "code",
   "execution_count": 47,
   "metadata": {},
   "outputs": [],
   "source": [
    "children_registered = filter_out_age_more(children_registered)"
   ]
  },
  {
   "cell_type": "code",
   "execution_count": 48,
   "metadata": {},
   "outputs": [
    {
     "data": {
      "text/plain": [
       "age\n",
       "3-year-olds    14882\n",
       "4-year-olds    14882\n",
       "Name: count, dtype: int64"
      ]
     },
     "execution_count": 48,
     "metadata": {},
     "output_type": "execute_result"
    }
   ],
   "source": [
    "children_registered[\"age\"].value_counts(dropna=False)"
   ]
  },
  {
   "cell_type": "markdown",
   "metadata": {},
   "source": [
    "## Filtering out 2-year-olds on disadvanted_data df"
   ]
  },
  {
   "cell_type": "code",
   "execution_count": 49,
   "metadata": {},
   "outputs": [
    {
     "name": "stdout",
     "output_type": "stream",
     "text": [
      "Before filtering, count of '2-year-olds': 0\n",
      "After filtering, count of '2-year-olds': 0\n"
     ]
    }
   ],
   "source": [
    "# Check the count of '2-year-olds' before filtering\n",
    "print(f\"Before filtering, count of '2-year-olds': {(disadvanted_data['age'] == '2-year-olds').sum()}\")\n",
    "\n",
    "# Apply the filter and reassign the DataFrame\n",
    "disadvanted_data = filter_out_age(disadvanted_data)\n",
    "\n",
    "# Check the count of '2-year-olds' after filtering\n",
    "print(f\"After filtering, count of '2-year-olds': {(children_registered['age'] == '2-year-olds').sum()}\")\n"
   ]
  },
  {
   "cell_type": "markdown",
   "metadata": {},
   "source": [
    "## Counting invalid rows after removal of 2-year-olds"
   ]
  },
  {
   "cell_type": "code",
   "execution_count": 50,
   "metadata": {},
   "outputs": [],
   "source": [
    "def count_invalid_rows(df, column, invalid_values):\n",
    "    \"\"\"\n",
    "    Counts the number of rows with invalid values in a specified column.\n",
    "\n",
    "    Parameters:\n",
    "    df (pandas.DataFrame): The DataFrame to check.\n",
    "    column (str): The column to check for invalid values.\n",
    "    invalid_values (list): A list of invalid values to search for.\n",
    "\n",
    "    Returns:\n",
    "    int: The count of rows with invalid values.\n",
    "    \"\"\"\n",
    "    if 'is_invalid' in df.columns:\n",
    "              df.drop(columns=['is_invalid'], inplace = True)\n",
    "    df['is_invalid'] = df[column].isin(invalid_values)\n",
    "       \n",
    "    invalid_count = df['is_invalid'].sum()\n",
    "\n",
    "    return invalid_count\n",
    "       \n"
   ]
  },
  {
   "cell_type": "code",
   "execution_count": 51,
   "metadata": {},
   "outputs": [
    {
     "data": {
      "text/plain": [
       "np.int64(0)"
      ]
     },
     "execution_count": 51,
     "metadata": {},
     "output_type": "execute_result"
    }
   ],
   "source": [
    "count_invalid_rows(children_registered,'number_children',invalid_values)"
   ]
  },
  {
   "cell_type": "code",
   "execution_count": 52,
   "metadata": {},
   "outputs": [
    {
     "data": {
      "text/plain": [
       "np.int64(0)"
      ]
     },
     "execution_count": 52,
     "metadata": {},
     "output_type": "execute_result"
    }
   ],
   "source": [
    "count_invalid_rows(disadvanted_data,'number_children',invalid_values)"
   ]
  },
  {
   "cell_type": "code",
   "execution_count": 53,
   "metadata": {},
   "outputs": [],
   "source": [
    "# children_registered[children_registered['is_invalid'] == True].head(100)"
   ]
  },
  {
   "cell_type": "code",
   "execution_count": 54,
   "metadata": {},
   "outputs": [],
   "source": [
    "children_registered_columns_check = ['age', 'provider_type', 'provider_type_group']\n",
    "disadvantaged_columns_check = ['age', 'disadvantage_type', 'basis_for_funding']\n",
    "\n",
    "def remove_rows_with_total(df, columns_to_check):\n",
    "    \"\"\"\n",
    "    Removes rows containing the value 'total' in specified columns.\n",
    "\n",
    "    Parameters:\n",
    "    df (pandas.DataFrame): The DataFrame to process.\n",
    "    columns_to_check (list): List of column names to check for the value 'total'.\n",
    "\n",
    "    Returns:\n",
    "    pandas.DataFrame: The cleaned DataFrame with rows containing 'total' removed.\n",
    "    \"\"\"\n",
    "    indices_to_remove = []\n",
    "\n",
    "    for idx, row in df.iterrows():\n",
    "        for column in columns_to_check:\n",
    "            if str(row[column]) == 'Total':\n",
    "              indices_to_remove.append(idx)\n",
    "              break\n",
    "    df = df.drop(indices_to_remove).reset_index(drop=True)\n",
    "\n",
    "    return df"
   ]
  },
  {
   "cell_type": "code",
   "execution_count": 55,
   "metadata": {},
   "outputs": [],
   "source": [
    "children_registered = remove_rows_with_total(children_registered, children_registered_columns_check)\n",
    "disadvanted_data = remove_rows_with_total(disadvanted_data, disadvantaged_columns_check)"
   ]
  },
  {
   "cell_type": "markdown",
   "metadata": {},
   "source": [
    "replacing 'z' with NaN"
   ]
  },
  {
   "cell_type": "code",
   "execution_count": 56,
   "metadata": {},
   "outputs": [],
   "source": [
    "children_registered[['number_children', 'number_providers']] = (children_registered[['number_children', 'number_providers']].replace('z', np.nan))"
   ]
  },
  {
   "cell_type": "code",
   "execution_count": 57,
   "metadata": {},
   "outputs": [],
   "source": [
    "children_registered[['number_children', 'number_providers']] = children_registered[['number_children', 'number_providers']].astype(float)"
   ]
  },
  {
   "cell_type": "code",
   "execution_count": 58,
   "metadata": {},
   "outputs": [],
   "source": [
    "# Disadvantaged had more invalid values than children_registered\n",
    "disadvanted_data[['number_children', 'percentage_children']] = (\n",
    "    disadvanted_data[['number_children', 'percentage_children']].replace(['z','c','u','low'],np.nan)\n",
    "    .astype(float))"
   ]
  },
  {
   "cell_type": "code",
   "execution_count": 59,
   "metadata": {},
   "outputs": [
    {
     "ename": "NameError",
     "evalue": "name 'disadvantaged_data' is not defined",
     "output_type": "error",
     "traceback": [
      "\u001b[1;31m---------------------------------------------------------------------------\u001b[0m",
      "\u001b[1;31mNameError\u001b[0m                                 Traceback (most recent call last)",
      "Cell \u001b[1;32mIn[59], line 1\u001b[0m\n\u001b[1;32m----> 1\u001b[0m \u001b[43mdisadvantaged_data\u001b[49m[\u001b[38;5;124m\"\u001b[39m\u001b[38;5;124mnumber_children\u001b[39m\u001b[38;5;124m\"\u001b[39m]\u001b[38;5;241m.\u001b[39mvalue_counts(dropna\u001b[38;5;241m=\u001b[39m\u001b[38;5;28;01mFalse\u001b[39;00m)\u001b[38;5;241m.\u001b[39mget(\u001b[38;5;124m'\u001b[39m\u001b[38;5;124mz\u001b[39m\u001b[38;5;124m'\u001b[39m, \u001b[38;5;241m0\u001b[39m)\n",
      "\u001b[1;31mNameError\u001b[0m: name 'disadvantaged_data' is not defined"
     ]
    }
   ],
   "source": [
    "disadvantaged_data[\"number_children\"].value_counts(dropna=False).get('z', 0)"
   ]
  },
  {
   "cell_type": "markdown",
   "metadata": {},
   "source": [
    "Removing rows where la code is NaN, this prevents double dipping numbers at national/regional levels\n"
   ]
  },
  {
   "cell_type": "code",
   "execution_count": 60,
   "metadata": {},
   "outputs": [],
   "source": [
    "children_registered = children_registered.dropna(subset=['new_la_code']).reset_index(drop =True)\n",
    "disadvanted_data = disadvanted_data.dropna(subset=['new_la_code']).reset_index(drop=True)"
   ]
  },
  {
   "cell_type": "markdown",
   "metadata": {},
   "source": [
    "Changing timeperiod from int to datetime"
   ]
  },
  {
   "cell_type": "code",
   "execution_count": 61,
   "metadata": {},
   "outputs": [],
   "source": [
    "children_registered['time_period'] = pd.to_datetime(children_registered['time_period'], format = '%Y') \n",
    "disadvanted_data['time_period'] = pd.to_datetime(disadvanted_data['time_period'], format = '%Y') "
   ]
  },
  {
   "cell_type": "code",
   "execution_count": 62,
   "metadata": {},
   "outputs": [
    {
     "name": "stdout",
     "output_type": "stream",
     "text": [
      "<class 'pandas.core.frame.DataFrame'>\n",
      "RangeIndex: 0 entries\n",
      "Data columns (total 18 columns):\n",
      " #   Column               Non-Null Count  Dtype         \n",
      "---  ------               --------------  -----         \n",
      " 0   time_period          0 non-null      datetime64[ns]\n",
      " 1   time_identifier      0 non-null      object        \n",
      " 2   geographic_level     0 non-null      object        \n",
      " 3   country_code         0 non-null      object        \n",
      " 4   country_name         0 non-null      object        \n",
      " 5   region_code          0 non-null      object        \n",
      " 6   region_name          0 non-null      object        \n",
      " 7   old_la_code          0 non-null      float64       \n",
      " 8   new_la_code          0 non-null      object        \n",
      " 9   la_name              0 non-null      object        \n",
      " 10  entitlement_type     0 non-null      object        \n",
      " 11  age                  0 non-null      object        \n",
      " 12  year_group           0 non-null      object        \n",
      " 13  disadvantage_type    0 non-null      object        \n",
      " 14  basis_for_funding    0 non-null      object        \n",
      " 15  number_children      0 non-null      float64       \n",
      " 16  percentage_children  0 non-null      float64       \n",
      " 17  is_invalid           0 non-null      bool          \n",
      "dtypes: bool(1), datetime64[ns](1), float64(3), object(13)\n",
      "memory usage: 132.0+ bytes\n"
     ]
    }
   ],
   "source": [
    "disadvanted_data.info()"
   ]
  },
  {
   "cell_type": "code",
   "execution_count": 63,
   "metadata": {},
   "outputs": [
    {
     "name": "stdout",
     "output_type": "stream",
     "text": [
      "<class 'pandas.core.frame.DataFrame'>\n",
      "RangeIndex: 29764 entries, 0 to 29763\n",
      "Data columns (total 14 columns):\n",
      " #   Column               Non-Null Count  Dtype         \n",
      "---  ------               --------------  -----         \n",
      " 0   time_period          29764 non-null  datetime64[ns]\n",
      " 1   geographic_level     29764 non-null  object        \n",
      " 2   region_code          29764 non-null  object        \n",
      " 3   region_name          29764 non-null  object        \n",
      " 4   new_la_code          29764 non-null  object        \n",
      " 5   la_name              29764 non-null  object        \n",
      " 6   entitlement_type     29764 non-null  object        \n",
      " 7   provider_type_group  29764 non-null  object        \n",
      " 8   provider_type        29764 non-null  object        \n",
      " 9   year_group           29764 non-null  object        \n",
      " 10  age                  29764 non-null  object        \n",
      " 11  number_children      29764 non-null  float64       \n",
      " 12  number_providers     29764 non-null  float64       \n",
      " 13  is_invalid           29764 non-null  bool          \n",
      "dtypes: bool(1), datetime64[ns](1), float64(2), object(10)\n",
      "memory usage: 3.0+ MB\n"
     ]
    }
   ],
   "source": [
    "children_registered.info()"
   ]
  },
  {
   "cell_type": "code",
   "execution_count": 64,
   "metadata": {},
   "outputs": [],
   "source": [
    "children_registered = children_registered.drop(columns='is_invalid')\n",
    "disadvanted_data = disadvanted_data.drop(columns='is_invalid')"
   ]
  },
  {
   "cell_type": "markdown",
   "metadata": {},
   "source": [
    "## Removing values except \"Total\" from year_group table of children_registered"
   ]
  },
  {
   "cell_type": "code",
   "execution_count": 65,
   "metadata": {},
   "outputs": [
    {
     "data": {
      "text/plain": [
       "year_group\n",
       "Total    29764\n",
       "Name: count, dtype: int64"
      ]
     },
     "execution_count": 65,
     "metadata": {},
     "output_type": "execute_result"
    }
   ],
   "source": [
    "children_registered[\"year_group\"].value_counts(dropna=False)"
   ]
  },
  {
   "cell_type": "code",
   "execution_count": 66,
   "metadata": {},
   "outputs": [],
   "source": [
    "children_registered = keep_total = children_registered[children_registered[\"year_group\"] == 'Total'] "
   ]
  },
  {
   "cell_type": "code",
   "execution_count": null,
   "metadata": {},
   "outputs": [],
   "source": []
  },
  {
   "cell_type": "code",
   "execution_count": 67,
   "metadata": {},
   "outputs": [
    {
     "data": {
      "text/plain": [
       "year_group\n",
       "Total    29764\n",
       "Name: count, dtype: int64"
      ]
     },
     "execution_count": 67,
     "metadata": {},
     "output_type": "execute_result"
    }
   ],
   "source": [
    "children_registered[\"year_group\"].value_counts(dropna=False)"
   ]
  },
  {
   "cell_type": "markdown",
   "metadata": {},
   "source": [
    "## remove time_identifier,country_code, country_name, old_la_code columns"
   ]
  },
  {
   "cell_type": "code",
   "execution_count": 68,
   "metadata": {},
   "outputs": [
    {
     "ename": "KeyError",
     "evalue": "\"['time_identifier', 'country_code', 'country_name', 'old_la_code'] not found in axis\"",
     "output_type": "error",
     "traceback": [
      "\u001b[1;31m---------------------------------------------------------------------------\u001b[0m",
      "\u001b[1;31mKeyError\u001b[0m                                  Traceback (most recent call last)",
      "Cell \u001b[1;32mIn[68], line 1\u001b[0m\n\u001b[1;32m----> 1\u001b[0m children_registered \u001b[38;5;241m=\u001b[39m \u001b[43mchildren_registered\u001b[49m\u001b[38;5;241;43m.\u001b[39;49m\u001b[43mdrop\u001b[49m\u001b[43m(\u001b[49m\n\u001b[0;32m      2\u001b[0m \u001b[43m    \u001b[49m\u001b[43m[\u001b[49m\u001b[38;5;124;43m\"\u001b[39;49m\u001b[38;5;124;43mtime_identifier\u001b[39;49m\u001b[38;5;124;43m\"\u001b[39;49m\u001b[43m,\u001b[49m\u001b[43m \u001b[49m\u001b[38;5;124;43m\"\u001b[39;49m\u001b[38;5;124;43mcountry_code\u001b[39;49m\u001b[38;5;124;43m\"\u001b[39;49m\u001b[43m,\u001b[49m\u001b[38;5;124;43m\"\u001b[39;49m\u001b[38;5;124;43mcountry_name\u001b[39;49m\u001b[38;5;124;43m\"\u001b[39;49m\u001b[43m,\u001b[49m\u001b[43m \u001b[49m\u001b[38;5;124;43m\"\u001b[39;49m\u001b[38;5;124;43mold_la_code\u001b[39;49m\u001b[38;5;124;43m\"\u001b[39;49m\u001b[43m]\u001b[49m\u001b[43m,\u001b[49m\u001b[43m \u001b[49m\u001b[43maxis\u001b[49m\u001b[43m \u001b[49m\u001b[38;5;241;43m=\u001b[39;49m\u001b[43m \u001b[49m\u001b[38;5;241;43m1\u001b[39;49m\n\u001b[0;32m      3\u001b[0m \u001b[43m)\u001b[49m\n",
      "File \u001b[1;32m~\\AppData\\Local\\Programs\\Python\\Python313\\Lib\\site-packages\\pandas\\core\\frame.py:5581\u001b[0m, in \u001b[0;36mDataFrame.drop\u001b[1;34m(self, labels, axis, index, columns, level, inplace, errors)\u001b[0m\n\u001b[0;32m   5433\u001b[0m \u001b[38;5;28;01mdef\u001b[39;00m \u001b[38;5;21mdrop\u001b[39m(\n\u001b[0;32m   5434\u001b[0m     \u001b[38;5;28mself\u001b[39m,\n\u001b[0;32m   5435\u001b[0m     labels: IndexLabel \u001b[38;5;241m|\u001b[39m \u001b[38;5;28;01mNone\u001b[39;00m \u001b[38;5;241m=\u001b[39m \u001b[38;5;28;01mNone\u001b[39;00m,\n\u001b[1;32m   (...)\u001b[0m\n\u001b[0;32m   5442\u001b[0m     errors: IgnoreRaise \u001b[38;5;241m=\u001b[39m \u001b[38;5;124m\"\u001b[39m\u001b[38;5;124mraise\u001b[39m\u001b[38;5;124m\"\u001b[39m,\n\u001b[0;32m   5443\u001b[0m ) \u001b[38;5;241m-\u001b[39m\u001b[38;5;241m>\u001b[39m DataFrame \u001b[38;5;241m|\u001b[39m \u001b[38;5;28;01mNone\u001b[39;00m:\n\u001b[0;32m   5444\u001b[0m \u001b[38;5;250m    \u001b[39m\u001b[38;5;124;03m\"\"\"\u001b[39;00m\n\u001b[0;32m   5445\u001b[0m \u001b[38;5;124;03m    Drop specified labels from rows or columns.\u001b[39;00m\n\u001b[0;32m   5446\u001b[0m \n\u001b[1;32m   (...)\u001b[0m\n\u001b[0;32m   5579\u001b[0m \u001b[38;5;124;03m            weight  1.0     0.8\u001b[39;00m\n\u001b[0;32m   5580\u001b[0m \u001b[38;5;124;03m    \"\"\"\u001b[39;00m\n\u001b[1;32m-> 5581\u001b[0m     \u001b[38;5;28;01mreturn\u001b[39;00m \u001b[38;5;28;43msuper\u001b[39;49m\u001b[43m(\u001b[49m\u001b[43m)\u001b[49m\u001b[38;5;241;43m.\u001b[39;49m\u001b[43mdrop\u001b[49m\u001b[43m(\u001b[49m\n\u001b[0;32m   5582\u001b[0m \u001b[43m        \u001b[49m\u001b[43mlabels\u001b[49m\u001b[38;5;241;43m=\u001b[39;49m\u001b[43mlabels\u001b[49m\u001b[43m,\u001b[49m\n\u001b[0;32m   5583\u001b[0m \u001b[43m        \u001b[49m\u001b[43maxis\u001b[49m\u001b[38;5;241;43m=\u001b[39;49m\u001b[43maxis\u001b[49m\u001b[43m,\u001b[49m\n\u001b[0;32m   5584\u001b[0m \u001b[43m        \u001b[49m\u001b[43mindex\u001b[49m\u001b[38;5;241;43m=\u001b[39;49m\u001b[43mindex\u001b[49m\u001b[43m,\u001b[49m\n\u001b[0;32m   5585\u001b[0m \u001b[43m        \u001b[49m\u001b[43mcolumns\u001b[49m\u001b[38;5;241;43m=\u001b[39;49m\u001b[43mcolumns\u001b[49m\u001b[43m,\u001b[49m\n\u001b[0;32m   5586\u001b[0m \u001b[43m        \u001b[49m\u001b[43mlevel\u001b[49m\u001b[38;5;241;43m=\u001b[39;49m\u001b[43mlevel\u001b[49m\u001b[43m,\u001b[49m\n\u001b[0;32m   5587\u001b[0m \u001b[43m        \u001b[49m\u001b[43minplace\u001b[49m\u001b[38;5;241;43m=\u001b[39;49m\u001b[43minplace\u001b[49m\u001b[43m,\u001b[49m\n\u001b[0;32m   5588\u001b[0m \u001b[43m        \u001b[49m\u001b[43merrors\u001b[49m\u001b[38;5;241;43m=\u001b[39;49m\u001b[43merrors\u001b[49m\u001b[43m,\u001b[49m\n\u001b[0;32m   5589\u001b[0m \u001b[43m    \u001b[49m\u001b[43m)\u001b[49m\n",
      "File \u001b[1;32m~\\AppData\\Local\\Programs\\Python\\Python313\\Lib\\site-packages\\pandas\\core\\generic.py:4788\u001b[0m, in \u001b[0;36mNDFrame.drop\u001b[1;34m(self, labels, axis, index, columns, level, inplace, errors)\u001b[0m\n\u001b[0;32m   4786\u001b[0m \u001b[38;5;28;01mfor\u001b[39;00m axis, labels \u001b[38;5;129;01min\u001b[39;00m axes\u001b[38;5;241m.\u001b[39mitems():\n\u001b[0;32m   4787\u001b[0m     \u001b[38;5;28;01mif\u001b[39;00m labels \u001b[38;5;129;01mis\u001b[39;00m \u001b[38;5;129;01mnot\u001b[39;00m \u001b[38;5;28;01mNone\u001b[39;00m:\n\u001b[1;32m-> 4788\u001b[0m         obj \u001b[38;5;241m=\u001b[39m \u001b[43mobj\u001b[49m\u001b[38;5;241;43m.\u001b[39;49m\u001b[43m_drop_axis\u001b[49m\u001b[43m(\u001b[49m\u001b[43mlabels\u001b[49m\u001b[43m,\u001b[49m\u001b[43m \u001b[49m\u001b[43maxis\u001b[49m\u001b[43m,\u001b[49m\u001b[43m \u001b[49m\u001b[43mlevel\u001b[49m\u001b[38;5;241;43m=\u001b[39;49m\u001b[43mlevel\u001b[49m\u001b[43m,\u001b[49m\u001b[43m \u001b[49m\u001b[43merrors\u001b[49m\u001b[38;5;241;43m=\u001b[39;49m\u001b[43merrors\u001b[49m\u001b[43m)\u001b[49m\n\u001b[0;32m   4790\u001b[0m \u001b[38;5;28;01mif\u001b[39;00m inplace:\n\u001b[0;32m   4791\u001b[0m     \u001b[38;5;28mself\u001b[39m\u001b[38;5;241m.\u001b[39m_update_inplace(obj)\n",
      "File \u001b[1;32m~\\AppData\\Local\\Programs\\Python\\Python313\\Lib\\site-packages\\pandas\\core\\generic.py:4830\u001b[0m, in \u001b[0;36mNDFrame._drop_axis\u001b[1;34m(self, labels, axis, level, errors, only_slice)\u001b[0m\n\u001b[0;32m   4828\u001b[0m         new_axis \u001b[38;5;241m=\u001b[39m axis\u001b[38;5;241m.\u001b[39mdrop(labels, level\u001b[38;5;241m=\u001b[39mlevel, errors\u001b[38;5;241m=\u001b[39merrors)\n\u001b[0;32m   4829\u001b[0m     \u001b[38;5;28;01melse\u001b[39;00m:\n\u001b[1;32m-> 4830\u001b[0m         new_axis \u001b[38;5;241m=\u001b[39m \u001b[43maxis\u001b[49m\u001b[38;5;241;43m.\u001b[39;49m\u001b[43mdrop\u001b[49m\u001b[43m(\u001b[49m\u001b[43mlabels\u001b[49m\u001b[43m,\u001b[49m\u001b[43m \u001b[49m\u001b[43merrors\u001b[49m\u001b[38;5;241;43m=\u001b[39;49m\u001b[43merrors\u001b[49m\u001b[43m)\u001b[49m\n\u001b[0;32m   4831\u001b[0m     indexer \u001b[38;5;241m=\u001b[39m axis\u001b[38;5;241m.\u001b[39mget_indexer(new_axis)\n\u001b[0;32m   4833\u001b[0m \u001b[38;5;66;03m# Case for non-unique axis\u001b[39;00m\n\u001b[0;32m   4834\u001b[0m \u001b[38;5;28;01melse\u001b[39;00m:\n",
      "File \u001b[1;32m~\\AppData\\Local\\Programs\\Python\\Python313\\Lib\\site-packages\\pandas\\core\\indexes\\base.py:7070\u001b[0m, in \u001b[0;36mIndex.drop\u001b[1;34m(self, labels, errors)\u001b[0m\n\u001b[0;32m   7068\u001b[0m \u001b[38;5;28;01mif\u001b[39;00m mask\u001b[38;5;241m.\u001b[39many():\n\u001b[0;32m   7069\u001b[0m     \u001b[38;5;28;01mif\u001b[39;00m errors \u001b[38;5;241m!=\u001b[39m \u001b[38;5;124m\"\u001b[39m\u001b[38;5;124mignore\u001b[39m\u001b[38;5;124m\"\u001b[39m:\n\u001b[1;32m-> 7070\u001b[0m         \u001b[38;5;28;01mraise\u001b[39;00m \u001b[38;5;167;01mKeyError\u001b[39;00m(\u001b[38;5;124mf\u001b[39m\u001b[38;5;124m\"\u001b[39m\u001b[38;5;132;01m{\u001b[39;00mlabels[mask]\u001b[38;5;241m.\u001b[39mtolist()\u001b[38;5;132;01m}\u001b[39;00m\u001b[38;5;124m not found in axis\u001b[39m\u001b[38;5;124m\"\u001b[39m)\n\u001b[0;32m   7071\u001b[0m     indexer \u001b[38;5;241m=\u001b[39m indexer[\u001b[38;5;241m~\u001b[39mmask]\n\u001b[0;32m   7072\u001b[0m \u001b[38;5;28;01mreturn\u001b[39;00m \u001b[38;5;28mself\u001b[39m\u001b[38;5;241m.\u001b[39mdelete(indexer)\n",
      "\u001b[1;31mKeyError\u001b[0m: \"['time_identifier', 'country_code', 'country_name', 'old_la_code'] not found in axis\""
     ]
    }
   ],
   "source": [
    "children_registered = children_registered.drop(\n",
    "    [\"time_identifier\", \"country_code\",\"country_name\", \"old_la_code\"], axis = 1\n",
    ")"
   ]
  },
  {
   "cell_type": "code",
   "execution_count": 69,
   "metadata": {},
   "outputs": [
    {
     "data": {
      "text/html": [
       "<div>\n",
       "<style scoped>\n",
       "    .dataframe tbody tr th:only-of-type {\n",
       "        vertical-align: middle;\n",
       "    }\n",
       "\n",
       "    .dataframe tbody tr th {\n",
       "        vertical-align: top;\n",
       "    }\n",
       "\n",
       "    .dataframe thead th {\n",
       "        text-align: right;\n",
       "    }\n",
       "</style>\n",
       "<table border=\"1\" class=\"dataframe\">\n",
       "  <thead>\n",
       "    <tr style=\"text-align: right;\">\n",
       "      <th></th>\n",
       "      <th>time_period</th>\n",
       "      <th>geographic_level</th>\n",
       "      <th>region_code</th>\n",
       "      <th>region_name</th>\n",
       "      <th>new_la_code</th>\n",
       "      <th>la_name</th>\n",
       "      <th>entitlement_type</th>\n",
       "      <th>provider_type_group</th>\n",
       "      <th>provider_type</th>\n",
       "      <th>year_group</th>\n",
       "      <th>age</th>\n",
       "      <th>number_children</th>\n",
       "      <th>number_providers</th>\n",
       "    </tr>\n",
       "  </thead>\n",
       "  <tbody>\n",
       "    <tr>\n",
       "      <th>0</th>\n",
       "      <td>2024-01-01</td>\n",
       "      <td>Local authority</td>\n",
       "      <td>E12000001</td>\n",
       "      <td>North East</td>\n",
       "      <td>E06000047</td>\n",
       "      <td>County Durham</td>\n",
       "      <td>15-hour entitlement</td>\n",
       "      <td>Private, voluntary and independent providers</td>\n",
       "      <td>All private and voluntary providers</td>\n",
       "      <td>Total</td>\n",
       "      <td>3-year-olds</td>\n",
       "      <td>2140.0</td>\n",
       "      <td>118.0</td>\n",
       "    </tr>\n",
       "    <tr>\n",
       "      <th>1</th>\n",
       "      <td>2024-01-01</td>\n",
       "      <td>Local authority</td>\n",
       "      <td>E12000001</td>\n",
       "      <td>North East</td>\n",
       "      <td>E06000047</td>\n",
       "      <td>County Durham</td>\n",
       "      <td>15-hour entitlement</td>\n",
       "      <td>Private, voluntary and independent providers</td>\n",
       "      <td>All private and voluntary providers</td>\n",
       "      <td>Total</td>\n",
       "      <td>4-year-olds</td>\n",
       "      <td>692.0</td>\n",
       "      <td>105.0</td>\n",
       "    </tr>\n",
       "    <tr>\n",
       "      <th>2</th>\n",
       "      <td>2024-01-01</td>\n",
       "      <td>Local authority</td>\n",
       "      <td>E12000001</td>\n",
       "      <td>North East</td>\n",
       "      <td>E06000047</td>\n",
       "      <td>County Durham</td>\n",
       "      <td>30-hour entitlement</td>\n",
       "      <td>Private, voluntary and independent providers</td>\n",
       "      <td>All private and voluntary providers</td>\n",
       "      <td>Total</td>\n",
       "      <td>3-year-olds</td>\n",
       "      <td>1389.0</td>\n",
       "      <td>112.0</td>\n",
       "    </tr>\n",
       "    <tr>\n",
       "      <th>3</th>\n",
       "      <td>2024-01-01</td>\n",
       "      <td>Local authority</td>\n",
       "      <td>E12000001</td>\n",
       "      <td>North East</td>\n",
       "      <td>E06000047</td>\n",
       "      <td>County Durham</td>\n",
       "      <td>30-hour entitlement</td>\n",
       "      <td>Private, voluntary and independent providers</td>\n",
       "      <td>All private and voluntary providers</td>\n",
       "      <td>Total</td>\n",
       "      <td>4-year-olds</td>\n",
       "      <td>462.0</td>\n",
       "      <td>100.0</td>\n",
       "    </tr>\n",
       "    <tr>\n",
       "      <th>4</th>\n",
       "      <td>2024-01-01</td>\n",
       "      <td>Local authority</td>\n",
       "      <td>E12000001</td>\n",
       "      <td>North East</td>\n",
       "      <td>E06000047</td>\n",
       "      <td>County Durham</td>\n",
       "      <td>15-hour entitlement</td>\n",
       "      <td>Private, voluntary and independent providers</td>\n",
       "      <td>Independent schools</td>\n",
       "      <td>Total</td>\n",
       "      <td>3-year-olds</td>\n",
       "      <td>21.0</td>\n",
       "      <td>3.0</td>\n",
       "    </tr>\n",
       "    <tr>\n",
       "      <th>...</th>\n",
       "      <td>...</td>\n",
       "      <td>...</td>\n",
       "      <td>...</td>\n",
       "      <td>...</td>\n",
       "      <td>...</td>\n",
       "      <td>...</td>\n",
       "      <td>...</td>\n",
       "      <td>...</td>\n",
       "      <td>...</td>\n",
       "      <td>...</td>\n",
       "      <td>...</td>\n",
       "      <td>...</td>\n",
       "      <td>...</td>\n",
       "    </tr>\n",
       "    <tr>\n",
       "      <th>29759</th>\n",
       "      <td>2018-01-01</td>\n",
       "      <td>Local authority</td>\n",
       "      <td>E13000002</td>\n",
       "      <td>Outer London</td>\n",
       "      <td>E09000031</td>\n",
       "      <td>Waltham Forest</td>\n",
       "      <td>30-hour entitlement</td>\n",
       "      <td>State-funded schools</td>\n",
       "      <td>State-funded secondary schools</td>\n",
       "      <td>Total</td>\n",
       "      <td>4-year-olds</td>\n",
       "      <td>8.0</td>\n",
       "      <td>2.0</td>\n",
       "    </tr>\n",
       "    <tr>\n",
       "      <th>29760</th>\n",
       "      <td>2018-01-01</td>\n",
       "      <td>Local authority</td>\n",
       "      <td>E13000002</td>\n",
       "      <td>Outer London</td>\n",
       "      <td>E09000031</td>\n",
       "      <td>Waltham Forest</td>\n",
       "      <td>15-hour entitlement</td>\n",
       "      <td>State-funded schools</td>\n",
       "      <td>Special schools</td>\n",
       "      <td>Total</td>\n",
       "      <td>3-year-olds</td>\n",
       "      <td>4.0</td>\n",
       "      <td>2.0</td>\n",
       "    </tr>\n",
       "    <tr>\n",
       "      <th>29761</th>\n",
       "      <td>2018-01-01</td>\n",
       "      <td>Local authority</td>\n",
       "      <td>E13000002</td>\n",
       "      <td>Outer London</td>\n",
       "      <td>E09000031</td>\n",
       "      <td>Waltham Forest</td>\n",
       "      <td>15-hour entitlement</td>\n",
       "      <td>State-funded schools</td>\n",
       "      <td>Special schools</td>\n",
       "      <td>Total</td>\n",
       "      <td>4-year-olds</td>\n",
       "      <td>18.0</td>\n",
       "      <td>3.0</td>\n",
       "    </tr>\n",
       "    <tr>\n",
       "      <th>29762</th>\n",
       "      <td>2018-01-01</td>\n",
       "      <td>Local authority</td>\n",
       "      <td>E13000002</td>\n",
       "      <td>Outer London</td>\n",
       "      <td>E09000031</td>\n",
       "      <td>Waltham Forest</td>\n",
       "      <td>30-hour entitlement</td>\n",
       "      <td>State-funded schools</td>\n",
       "      <td>Special schools</td>\n",
       "      <td>Total</td>\n",
       "      <td>3-year-olds</td>\n",
       "      <td>0.0</td>\n",
       "      <td>0.0</td>\n",
       "    </tr>\n",
       "    <tr>\n",
       "      <th>29763</th>\n",
       "      <td>2018-01-01</td>\n",
       "      <td>Local authority</td>\n",
       "      <td>E13000002</td>\n",
       "      <td>Outer London</td>\n",
       "      <td>E09000031</td>\n",
       "      <td>Waltham Forest</td>\n",
       "      <td>30-hour entitlement</td>\n",
       "      <td>State-funded schools</td>\n",
       "      <td>Special schools</td>\n",
       "      <td>Total</td>\n",
       "      <td>4-year-olds</td>\n",
       "      <td>0.0</td>\n",
       "      <td>0.0</td>\n",
       "    </tr>\n",
       "  </tbody>\n",
       "</table>\n",
       "<p>29764 rows × 13 columns</p>\n",
       "</div>"
      ],
      "text/plain": [
       "      time_period geographic_level region_code   region_name new_la_code  \\\n",
       "0      2024-01-01  Local authority   E12000001    North East   E06000047   \n",
       "1      2024-01-01  Local authority   E12000001    North East   E06000047   \n",
       "2      2024-01-01  Local authority   E12000001    North East   E06000047   \n",
       "3      2024-01-01  Local authority   E12000001    North East   E06000047   \n",
       "4      2024-01-01  Local authority   E12000001    North East   E06000047   \n",
       "...           ...              ...         ...           ...         ...   \n",
       "29759  2018-01-01  Local authority   E13000002  Outer London   E09000031   \n",
       "29760  2018-01-01  Local authority   E13000002  Outer London   E09000031   \n",
       "29761  2018-01-01  Local authority   E13000002  Outer London   E09000031   \n",
       "29762  2018-01-01  Local authority   E13000002  Outer London   E09000031   \n",
       "29763  2018-01-01  Local authority   E13000002  Outer London   E09000031   \n",
       "\n",
       "              la_name     entitlement_type  \\\n",
       "0       County Durham  15-hour entitlement   \n",
       "1       County Durham  15-hour entitlement   \n",
       "2       County Durham  30-hour entitlement   \n",
       "3       County Durham  30-hour entitlement   \n",
       "4       County Durham  15-hour entitlement   \n",
       "...               ...                  ...   \n",
       "29759  Waltham Forest  30-hour entitlement   \n",
       "29760  Waltham Forest  15-hour entitlement   \n",
       "29761  Waltham Forest  15-hour entitlement   \n",
       "29762  Waltham Forest  30-hour entitlement   \n",
       "29763  Waltham Forest  30-hour entitlement   \n",
       "\n",
       "                                provider_type_group  \\\n",
       "0      Private, voluntary and independent providers   \n",
       "1      Private, voluntary and independent providers   \n",
       "2      Private, voluntary and independent providers   \n",
       "3      Private, voluntary and independent providers   \n",
       "4      Private, voluntary and independent providers   \n",
       "...                                             ...   \n",
       "29759                          State-funded schools   \n",
       "29760                          State-funded schools   \n",
       "29761                          State-funded schools   \n",
       "29762                          State-funded schools   \n",
       "29763                          State-funded schools   \n",
       "\n",
       "                             provider_type year_group          age  \\\n",
       "0      All private and voluntary providers      Total  3-year-olds   \n",
       "1      All private and voluntary providers      Total  4-year-olds   \n",
       "2      All private and voluntary providers      Total  3-year-olds   \n",
       "3      All private and voluntary providers      Total  4-year-olds   \n",
       "4                      Independent schools      Total  3-year-olds   \n",
       "...                                    ...        ...          ...   \n",
       "29759       State-funded secondary schools      Total  4-year-olds   \n",
       "29760                      Special schools      Total  3-year-olds   \n",
       "29761                      Special schools      Total  4-year-olds   \n",
       "29762                      Special schools      Total  3-year-olds   \n",
       "29763                      Special schools      Total  4-year-olds   \n",
       "\n",
       "       number_children  number_providers  \n",
       "0               2140.0             118.0  \n",
       "1                692.0             105.0  \n",
       "2               1389.0             112.0  \n",
       "3                462.0             100.0  \n",
       "4                 21.0               3.0  \n",
       "...                ...               ...  \n",
       "29759              8.0               2.0  \n",
       "29760              4.0               2.0  \n",
       "29761             18.0               3.0  \n",
       "29762              0.0               0.0  \n",
       "29763              0.0               0.0  \n",
       "\n",
       "[29764 rows x 13 columns]"
      ]
     },
     "execution_count": 69,
     "metadata": {},
     "output_type": "execute_result"
    }
   ],
   "source": [
    "children_registered"
   ]
  },
  {
   "cell_type": "code",
   "execution_count": 71,
   "metadata": {},
   "outputs": [],
   "source": [
    "children_registered.to_csv(\"/Users/vardr.DESKTOP-R06GCLK/CodeOp_Data_Analytics_Mod3on/Group_Project/Preprocessed_files/children_registered_2.csv\", index=False)\n",
    "\n"
   ]
  },
  {
   "cell_type": "code",
   "execution_count": null,
   "metadata": {},
   "outputs": [],
   "source": [
    "#disadvanted_data.to_csv('/Users/mel/Desktop/disadvantaged_data_test.csv', index=False)"
   ]
  }
 ],
 "metadata": {
  "kernelspec": {
   "display_name": "Python 3 (ipykernel)",
   "language": "python",
   "name": "python3"
  },
  "language_info": {
   "codemirror_mode": {
    "name": "ipython",
    "version": 3
   },
   "file_extension": ".py",
   "mimetype": "text/x-python",
   "name": "python",
   "nbconvert_exporter": "python",
   "pygments_lexer": "ipython3",
   "version": "3.13.0"
  }
 },
 "nbformat": 4,
 "nbformat_minor": 4
}
